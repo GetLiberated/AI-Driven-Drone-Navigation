{
 "cells": [
  {
   "cell_type": "markdown",
   "source": [
    "# Depth Direction Decision"
   ],
   "metadata": {
    "collapsed": false
   }
  },
  {
   "cell_type": "markdown",
   "source": [
    "## Dataset"
   ],
   "metadata": {
    "collapsed": false
   }
  },
  {
   "cell_type": "code",
   "execution_count": 3,
   "outputs": [],
   "source": [
    "from depth_dataset_tool import DepthDatasetTool\n",
    "ddt = DepthDatasetTool()"
   ],
   "metadata": {
    "collapsed": false,
    "pycharm": {
     "name": "#%%\n"
    }
   }
  },
  {
   "cell_type": "markdown",
   "source": [
    "### Modify dataset"
   ],
   "metadata": {
    "collapsed": false
   }
  },
  {
   "cell_type": "code",
   "execution_count": null,
   "outputs": [],
   "source": [
    "ddt.editor()"
   ],
   "metadata": {
    "collapsed": false,
    "pycharm": {
     "name": "#%%\n"
    }
   }
  },
  {
   "cell_type": "code",
   "execution_count": 4,
   "outputs": [
    {
     "name": "stdout",
     "output_type": "stream",
     "text": [
      "Data labelled forward:  1251\n",
      "Data labelled left:  529\n",
      "Data labelled right:  481\n",
      "Dataset size:  2261\n"
     ]
    }
   ],
   "source": [
    "# Show the number of depth image datas collected\n",
    "ddt.size()"
   ],
   "metadata": {
    "collapsed": false,
    "pycharm": {
     "name": "#%%\n"
    }
   }
  },
  {
   "cell_type": "markdown",
   "source": [
    "## Model"
   ],
   "metadata": {
    "collapsed": false
   }
  },
  {
   "cell_type": "code",
   "execution_count": 1,
   "outputs": [],
   "source": [
    "from my_models import DepthDirectionDecision\n",
    "ddd_model = DepthDirectionDecision()"
   ],
   "metadata": {
    "collapsed": false,
    "pycharm": {
     "name": "#%%\n"
    }
   }
  },
  {
   "cell_type": "markdown",
   "source": [
    "### Train model"
   ],
   "metadata": {
    "collapsed": false
   }
  },
  {
   "cell_type": "code",
   "execution_count": 5,
   "outputs": [
    {
     "name": "stdout",
     "output_type": "stream",
     "text": [
      "start time:  2022-04-21 15:44:44.817980\n",
      "Epoch: 1 Accuracy : 39.29359823399559 %\n",
      "New Best Model with Accuracy:  39.29359823399559\n",
      "Epoch: 2 Accuracy : 18.101545253863133 %\n",
      "Epoch: 3 Accuracy : 39.29359823399559 %\n",
      "Epoch: 4 Accuracy : 39.29359823399559 %\n",
      "Epoch: 5 Accuracy : 18.322295805739515 %\n",
      "Epoch: 6 Accuracy : 18.101545253863133 %\n",
      "Epoch: 7 Accuracy : 16.335540838852097 %\n",
      "Epoch: 8 Accuracy : 39.29359823399559 %\n",
      "Epoch: 9 Accuracy : 39.29359823399559 %\n",
      "Epoch: 10 Accuracy : 20.309050772626932 %\n",
      "Epoch: 11 Accuracy : 42.60485651214128 %\n",
      "New Best Model with Accuracy:  42.60485651214128\n",
      "Epoch: 12 Accuracy : 45.033112582781456 %\n",
      "New Best Model with Accuracy:  45.033112582781456\n",
      "Epoch: 13 Accuracy : 42.60485651214128 %\n",
      "Epoch: 14 Accuracy : 42.60485651214128 %\n",
      "Epoch: 15 Accuracy : 39.29359823399559 %\n",
      "Epoch: 16 Accuracy : 42.60485651214128 %\n",
      "Epoch: 17 Accuracy : 42.60485651214128 %\n",
      "Epoch: 18 Accuracy : 42.60485651214128 %\n",
      "Epoch: 19 Accuracy : 60.264900662251655 %\n",
      "New Best Model with Accuracy:  60.264900662251655\n",
      "Epoch: 20 Accuracy : 42.60485651214128 %\n",
      "Saving best model...\n",
      "finish time:  2022-04-21 15:46:18.944218\n"
     ]
    },
    {
     "data": {
      "text/plain": "<Figure size 432x288 with 1 Axes>",
      "image/png": "[encoded data removed]"
     },
     "metadata": {
      "needs_background": "light"
     },
     "output_type": "display_data"
    }
   ],
   "source": [
    "from datetime import datetime\n",
    "print('start time: ', datetime.now())\n",
    "ddd_model.train(numb_epoch=20, lr=1e-4, batch_size=16)\n",
    "print('finish time: ', datetime.now())"
   ],
   "metadata": {
    "collapsed": false,
    "pycharm": {
     "name": "#%%\n"
    }
   }
  },
  {
   "cell_type": "markdown",
   "source": [
    "### Test model"
   ],
   "metadata": {
    "collapsed": false
   }
  },
  {
   "cell_type": "code",
   "execution_count": null,
   "outputs": [],
   "source": [
    "import numpy as np\n",
    "img = np.load(\"depth_images.npy\")\n",
    "label = np.load(\"depth_labels.npy\")"
   ],
   "metadata": {
    "collapsed": false,
    "pycharm": {
     "name": "#%%\n"
    }
   }
  },
  {
   "cell_type": "code",
   "execution_count": null,
   "outputs": [],
   "source": [
    "i = 1\n",
    "print('predicted: ', ddd_model.predict(img[i]))\n",
    "print('actual: ', label[i])"
   ],
   "metadata": {
    "collapsed": false,
    "pycharm": {
     "name": "#%%\n"
    }
   }
  }
 ],
 "metadata": {
  "kernelspec": {
   "display_name": "Python 3",
   "language": "python",
   "name": "python3"
  },
  "language_info": {
   "codemirror_mode": {
    "name": "ipython",
    "version": 2
   },
   "file_extension": ".py",
   "mimetype": "text/x-python",
   "name": "python",
   "nbconvert_exporter": "python",
   "pygments_lexer": "ipython2",
   "version": "2.7.6"
  }
 },
 "nbformat": 4,
 "nbformat_minor": 0
}